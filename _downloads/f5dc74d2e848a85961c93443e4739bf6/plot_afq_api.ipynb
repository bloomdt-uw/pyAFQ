{
  "cells": [
    {
      "cell_type": "code",
      "execution_count": null,
      "metadata": {
        "collapsed": false
      },
      "outputs": [],
      "source": [
        "%matplotlib inline"
      ]
    },
    {
      "cell_type": "markdown",
      "metadata": {},
      "source": [
        "\n# AFQ API\n\n\nAn example using the AFQ API\n\n\n\n"
      ]
    },
    {
      "cell_type": "code",
      "execution_count": null,
      "metadata": {
        "collapsed": false
      },
      "outputs": [],
      "source": [
        "import os.path as op\n\nimport matplotlib.pyplot as plt\nimport nibabel as nib\nimport pandas as pd\n\nfrom AFQ import api\nimport AFQ.data as afd"
      ]
    },
    {
      "cell_type": "markdown",
      "metadata": {},
      "source": [
        "Get some example data\n---------------------\n\n"
      ]
    },
    {
      "cell_type": "code",
      "execution_count": null,
      "metadata": {
        "collapsed": false
      },
      "outputs": [],
      "source": [
        "afd.organize_stanford_data()\nbase_dir = op.join(op.expanduser('~'), 'AFQ_data', 'stanford_hardi')"
      ]
    },
    {
      "cell_type": "markdown",
      "metadata": {},
      "source": [
        "Initialize an AFQ object:\n------------------------\n\n"
      ]
    },
    {
      "cell_type": "code",
      "execution_count": null,
      "metadata": {
        "collapsed": false
      },
      "outputs": [],
      "source": [
        "myafq = api.AFQ(bids_path=op.join(afd.afq_home,\n                                  'stanford_hardi'),\n                dmriprep='vistasoft',\n                segmentation='freesurfer')"
      ]
    },
    {
      "cell_type": "markdown",
      "metadata": {},
      "source": [
        "Reading in DTI FA\n-----------------\nThe AFQ object holds a table with file-names to various data derivatives.\nFor example, this is where the FA computed from DTI is stored.\n\n<div class=\"alert alert-info\"><h4>Note</h4><p>The AFQ API computes quantities lazily. This means that DTI parameters\n   are  not computed until they are required. This means that the first\n   line below is the one that requires time.</p></div>\n\n"
      ]
    },
    {
      "cell_type": "code",
      "execution_count": null,
      "metadata": {
        "collapsed": false
      },
      "outputs": [],
      "source": [
        "FA_fname = myafq.dti_fa[0]\nFA = nib.load(FA_fname).get_fdata()"
      ]
    },
    {
      "cell_type": "markdown",
      "metadata": {},
      "source": [
        "Visualize the result with Matplotlib\n-------------------------------------\nAt this point `FA` is an array, and we can use standard Python tools to\nvisualize it or perform additional computations with it:\n\n"
      ]
    },
    {
      "cell_type": "code",
      "execution_count": null,
      "metadata": {
        "collapsed": false
      },
      "outputs": [],
      "source": [
        "fig, ax = plt.subplots(1)\nax.matshow(FA[:, :, FA.shape[-1] // 2], cmap='viridis')\nax.axis(\"off\")"
      ]
    },
    {
      "cell_type": "markdown",
      "metadata": {},
      "source": [
        "Getting tract profiles:\n-------------------------\nThe computation below is quite time-consuming. For this reason, we have\ncommented it out for now. If you want to run it through, uncomment then next\nfew lines and go get a cup of coffee:\n\n<div class=\"alert alert-info\"><h4>Note</h4><p>Note that because of a quirk in the way that brain segmentation was\n    generated in this data, some bundles will not be detected using the\n    detected using the default values. For example, the corticospinal tracts\n    on both sides will not be properly detected because the waypoint ROIs for\n    these tracts fall into parts of the white matter that were not segmented.</p></div>\n\n"
      ]
    },
    {
      "cell_type": "code",
      "execution_count": null,
      "metadata": {
        "collapsed": false
      },
      "outputs": [],
      "source": [
        "# df = pd.read_csv(myafq.tract_profiles[0])\n# for bundle in df['bundle'].unique():\n#     fig, ax = plt.subplots(1)\n#     ax.plot(df[(df['scalar'] == \"dti_fa\")\n#             & (df['bundle'] == bundle)]['profiles'])\n#     ax.set_title(bundle)\n\nplt.show()"
      ]
    }
  ],
  "metadata": {
    "kernelspec": {
      "display_name": "Python 3",
      "language": "python",
      "name": "python3"
    },
    "language_info": {
      "codemirror_mode": {
        "name": "ipython",
        "version": 3
      },
      "file_extension": ".py",
      "mimetype": "text/x-python",
      "name": "python",
      "nbconvert_exporter": "python",
      "pygments_lexer": "ipython3",
      "version": "3.6.11"
    }
  },
  "nbformat": 4,
  "nbformat_minor": 0
}