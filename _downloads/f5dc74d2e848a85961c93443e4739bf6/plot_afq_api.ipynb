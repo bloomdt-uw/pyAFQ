{
  "cells": [
    {
      "cell_type": "code",
      "execution_count": null,
      "metadata": {
        "collapsed": false
      },
      "outputs": [],
      "source": [
        "%matplotlib inline"
      ]
    },
    {
      "cell_type": "markdown",
      "metadata": {},
      "source": [
        "\n# AFQ API\n\nAn example using the AFQ API\n"
      ]
    },
    {
      "cell_type": "code",
      "execution_count": null,
      "metadata": {
        "collapsed": false
      },
      "outputs": [],
      "source": [
        "import os.path as op\n\nimport matplotlib.pyplot as plt\nimport nibabel as nib\nimport pandas as pd\nimport plotly\n\nfrom AFQ import api\nimport AFQ.data as afd"
      ]
    },
    {
      "cell_type": "markdown",
      "metadata": {},
      "source": [
        "## Get some example data\n\n"
      ]
    },
    {
      "cell_type": "code",
      "execution_count": null,
      "metadata": {
        "collapsed": false
      },
      "outputs": [],
      "source": [
        "afd.organize_stanford_data()\nbase_dir = op.join(op.expanduser('~'), 'AFQ_data', 'stanford_hardi')"
      ]
    },
    {
      "cell_type": "markdown",
      "metadata": {},
      "source": [
        "## Initialize an AFQ object:\n\n"
      ]
    },
    {
      "cell_type": "code",
      "execution_count": null,
      "metadata": {
        "collapsed": false
      },
      "outputs": [],
      "source": [
        "myafq = api.AFQ(bids_path=op.join(afd.afq_home,\n                                  'stanford_hardi'),\n                dmriprep='vistasoft',\n                viz_backend=\"plotly\")"
      ]
    },
    {
      "cell_type": "markdown",
      "metadata": {},
      "source": [
        "## Reading in DTI FA\nThe AFQ object holds a table with file-names to various data derivatives.\nFor example, this is where the FA computed from DTI is stored.\n\n<div class=\"alert alert-info\"><h4>Note</h4><p>The AFQ API computes quantities lazily. This means that DTI parameters\n   are  not computed until they are required. This means that the first\n   line below is the one that requires time.</p></div>\n\n"
      ]
    },
    {
      "cell_type": "code",
      "execution_count": null,
      "metadata": {
        "collapsed": false
      },
      "outputs": [],
      "source": [
        "FA_fname = myafq.dti_fa[0]\nFA = nib.load(FA_fname).get_fdata()"
      ]
    },
    {
      "cell_type": "markdown",
      "metadata": {},
      "source": [
        "## Visualize the result with Matplotlib\nAt this point `FA` is an array, and we can use standard Python tools to\nvisualize it or perform additional computations with it:\n\n"
      ]
    },
    {
      "cell_type": "code",
      "execution_count": null,
      "metadata": {
        "collapsed": false
      },
      "outputs": [],
      "source": [
        "fig, ax = plt.subplots(1)\nax.matshow(FA[:, :, FA.shape[-1] // 2], cmap='viridis')\nax.axis(\"off\")"
      ]
    },
    {
      "cell_type": "markdown",
      "metadata": {},
      "source": [
        "## Visualizing bundles and tract profiles:\nThe pyAFQ API provides several ways to visualize bundles and profiles.\nFirst, we will run a function that exports an html file that contains\nan interactive visualization of the bundles that are segmented. Once\nit is done running, it should pop a browser window open and let you\ninteract with the bundles.\n\n<div class=\"alert alert-info\"><h4>Note</h4><p>Running the code below triggers the full pipeline of operations\n   leading to the computation of the tract profiles. Therefore, it\n   takes a little while to run (about 40 minutes, typically).</p></div>\n\n"
      ]
    },
    {
      "cell_type": "code",
      "execution_count": null,
      "metadata": {
        "collapsed": false
      },
      "outputs": [],
      "source": [
        "bundle_html = myafq.viz_bundles(export=True, n_points=50)\nplotly.io.show(bundle_html[0])"
      ]
    },
    {
      "cell_type": "markdown",
      "metadata": {},
      "source": [
        "We can also visualize the tract profiles in all of the bundles:\n\n\n"
      ]
    },
    {
      "cell_type": "code",
      "execution_count": null,
      "metadata": {
        "collapsed": false
      },
      "outputs": [],
      "source": [
        "myafq.plot_tract_profiles()\nfig_files = myafq.data_frame['tract_profiles_viz'][0]"
      ]
    },
    {
      "cell_type": "markdown",
      "metadata": {},
      "source": [
        ".. figure:: {{ fig_files[0] }}\n\n\n"
      ]
    }
  ],
  "metadata": {
    "kernelspec": {
      "display_name": "Python 3",
      "language": "python",
      "name": "python3"
    },
    "language_info": {
      "codemirror_mode": {
        "name": "ipython",
        "version": 3
      },
      "file_extension": ".py",
      "mimetype": "text/x-python",
      "name": "python",
      "nbconvert_exporter": "python",
      "pygments_lexer": "ipython3",
      "version": "3.7.9"
    }
  },
  "nbformat": 4,
  "nbformat_minor": 0
}